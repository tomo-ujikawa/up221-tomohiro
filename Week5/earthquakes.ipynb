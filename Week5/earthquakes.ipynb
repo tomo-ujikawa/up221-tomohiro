{
 "cells": [
  {
   "cell_type": "markdown",
   "metadata": {},
   "source": [
    "# USGS Real time earthquake map\n",
    "\n",
    "- [USGS Earthquake feed](https://earthquake.usgs.gov/earthquakes/map/?extent=22.22809,-126.91406&extent=51.61802,-63.10547&sort=largest)"
   ]
  },
  {
   "cell_type": "code",
   "execution_count": null,
   "metadata": {},
   "outputs": [],
   "source": [
    "# import libraries\n",
    "import geopandas as gpd\n",
    "import pandas as pd\n",
    "import plotly.express as px\n",
    "import matplotlib.pyplot as plt\n",
    "import contextily as ctx"
   ]
  },
  {
   "cell_type": "code",
   "execution_count": null,
   "metadata": {},
   "outputs": [],
   "source": [
    "# create geodataframe\n",
    "gdf = gpd.read_file('https://earthquake.usgs.gov/earthquakes/feed/v1.0/summary/2.5_day.geojson')"
   ]
  },
  {
   "cell_type": "code",
   "execution_count": null,
   "metadata": {},
   "outputs": [],
   "source": [
    "# plot it as-is\n",
    "gdf.plot()"
   ]
  },
  {
   "cell_type": "code",
   "execution_count": null,
   "metadata": {},
   "outputs": [],
   "source": [
    "gdf.sort_values(by='mag',ascending=False)"
   ]
  },
  {
   "cell_type": "markdown",
   "metadata": {},
   "source": [
    "## Map with matplotlib"
   ]
  },
  {
   "cell_type": "code",
   "execution_count": null,
   "metadata": {},
   "outputs": [],
   "source": [
    "# project to mercator\n",
    "gdf_mercator = gdf.to_crs(3857)"
   ]
  },
  {
   "cell_type": "code",
   "execution_count": null,
   "metadata": {},
   "outputs": [],
   "source": [
    "gdf_mercator.plot()"
   ]
  },
  {
   "cell_type": "code",
   "execution_count": null,
   "metadata": {},
   "outputs": [],
   "source": [
    "# create plot\n",
    "fig, ax = plt.subplots(figsize=(15,5))\n",
    "\n",
    "# plot earthquakes\n",
    "gdf_mercator.plot(ax=ax,\n",
    "    markersize=200,\n",
    "    edgecolor='white',\n",
    "    alpha=0.5,\n",
    "    column='mag',\n",
    "    cmap='CMRmap_r',\n",
    "    legend=True)\n",
    "\n",
    "ax.axis('off')\n",
    "\n",
    "# add osm basemap\n",
    "ctx.add_basemap(ax=ax, source='http://tile.openstreetmap.org/{z}/{x}/{y}.png')\n"
   ]
  },
  {
   "attachments": {},
   "cell_type": "markdown",
   "metadata": {},
   "source": [
    "## Plotly express\n",
    "\n",
    "Uses csv, so need the csv feed URL"
   ]
  },
  {
   "cell_type": "code",
   "execution_count": null,
   "metadata": {},
   "outputs": [],
   "source": [
    "df = pd.read_csv('https://earthquake.usgs.gov/earthquakes/feed/v1.0/summary/2.5_day.csv')"
   ]
  },
  {
   "cell_type": "code",
   "execution_count": null,
   "metadata": {},
   "outputs": [],
   "source": [
    "fig = px.scatter_mapbox(df,\n",
    "                        lat='latitude',\n",
    "                        lon='longitude',\n",
    "                        zoom=0,\n",
    "                        size='mag',\n",
    "                        color='mag',\n",
    "                        size_max=20,\n",
    "                        hover_data=['place'],\n",
    "                        mapbox_style=\"carto-darkmatter\")\n",
    "\n",
    "# options on the layout\n",
    "fig.update_layout(\n",
    "    width = 1000,\n",
    "    height = 600,\n",
    "    title = \"Earthquakes Mag 2.5+, Past Day (USGS)\",\n",
    "    title_x=0.5 # aligns title to center\n",
    ")\n",
    "\n",
    "\n",
    "fig.show()\n",
    "\n",
    "# export as HTML\n",
    "fig.write_html('usgs.html')"
   ]
  },
  {
   "cell_type": "code",
   "execution_count": null,
   "metadata": {},
   "outputs": [],
   "source": []
  }
 ],
 "metadata": {
  "kernelspec": {
   "display_name": "geos",
   "language": "python",
   "name": "python3"
  },
  "language_info": {
   "codemirror_mode": {
    "name": "ipython",
    "version": 3
   },
   "file_extension": ".py",
   "mimetype": "text/x-python",
   "name": "python",
   "nbconvert_exporter": "python",
   "pygments_lexer": "ipython3",
   "version": "3.11.0"
  },
  "vscode": {
   "interpreter": {
    "hash": "a6f97620323956135125d97ca3cfa81b2e752106e2996f191eab2ef4078f4063"
   }
  }
 },
 "nbformat": 4,
 "nbformat_minor": 2
}
