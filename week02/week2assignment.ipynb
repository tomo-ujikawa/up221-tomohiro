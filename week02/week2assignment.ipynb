{
 "cells": [
  {
   "cell_type": "code",
   "execution_count": 1,
   "id": "e1199e23-e99c-41e6-8ecd-fa8fe84fc933",
   "metadata": {},
   "outputs": [],
   "source": [
    "# Week2 Individual Assignment"
   ]
  },
  {
   "cell_type": "code",
   "execution_count": 3,
   "id": "97a72407-c931-4abd-80bf-16fd907ca9b2",
   "metadata": {},
   "outputs": [],
   "source": [
    "import pandas as pd\n",
    "import geopandas as gpd"
   ]
  },
  {
   "cell_type": "code",
   "execution_count": 15,
   "id": "f91deeb0-79d3-4461-a5a3-13225f96eeae",
   "metadata": {},
   "outputs": [],
   "source": [
    "# read and add shapefile to notebook\n",
    "metro = gpd.read_file('data/Stations_All_0316.zip')"
   ]
  },
  {
   "cell_type": "code",
   "execution_count": 11,
   "id": "078b3b72-c5a4-45cd-be4e-e8eb0da8cc8c",
   "metadata": {},
   "outputs": [
    {
     "data": {
      "text/plain": [
       "geopandas.geodataframe.GeoDataFrame"
      ]
     },
     "execution_count": 11,
     "metadata": {},
     "output_type": "execute_result"
    }
   ],
   "source": [
    "type(metro)"
   ]
  },
  {
   "cell_type": "code",
   "execution_count": 16,
   "id": "6e487fc9-1009-4c81-87f5-ad33e7a91aa9",
   "metadata": {},
   "outputs": [
    {
     "data": {
      "text/plain": [
       "(96, 14)"
      ]
     },
     "execution_count": 16,
     "metadata": {},
     "output_type": "execute_result"
    }
   ],
   "source": [
    "# how many rows and columns?\n",
    "metro.shape"
   ]
  },
  {
   "cell_type": "code",
   "execution_count": 17,
   "id": "d87a7f13-2f8a-464c-92f4-08e50a56461a",
   "metadata": {},
   "outputs": [
    {
     "data": {
      "text/plain": [
       "<bound method DataFrame.info of     LINE  LINENUM  LINENUM2  STNSEQ  STNSEQ2    DIR  STOPNUM  \\\n",
       "0   Blue      801         0      21        0   None    80101   \n",
       "1   Blue      801         0      22        0  North    80102   \n",
       "2   Blue      801         0      18        0   None    80105   \n",
       "3   Blue      801         0      17        0   None    80106   \n",
       "4   Blue      801         0      16        0   None    80107   \n",
       "..   ...      ...       ...     ...      ...    ...      ...   \n",
       "91  Gold      804         0       5        0   None    80423   \n",
       "92  Gold      804         0       4        0   None    80424   \n",
       "93  Gold      804         0       3        0   None    80425   \n",
       "94  Gold      804         0       2        0   None    80426   \n",
       "95  Gold      804         0       1        0   None    80427   \n",
       "\n",
       "                          STATION        LAT        LONG  TPIS_NAME  \\\n",
       "0     Downtown Long Beach Station  33.768071 -118.192921   Long Bch   \n",
       "1             Pacific Ave Station  33.772258 -118.193700    Pacific   \n",
       "2          Anaheim Street Station  33.781830 -118.189384    Anaheim   \n",
       "3       Pacific Coast Hwy Station  33.789090 -118.189382        PCH   \n",
       "4           Willow Street Station  33.807079 -118.189834     Willow   \n",
       "..                            ...        ...         ...        ...   \n",
       "91               Monrovia Station  34.133155 -118.003473   Monrovia   \n",
       "92  Duarte / City of Hope Station  34.132518 -117.967680     Duarte   \n",
       "93              Irwindale Station  34.129048 -117.932506  Irwindale   \n",
       "94         Azusa Downtown Station  34.135863 -117.906631      Azusa   \n",
       "95   APU / Citrus College Station  34.136814 -117.891636    APU/Cit   \n",
       "\n",
       "         POINT_X       POINT_Y                     geometry  \n",
       "0   6.503030e+06  1.738034e+06  POINT (-118.19292 33.76807)  \n",
       "1   6.502796e+06  1.739558e+06  POINT (-118.19370 33.77226)  \n",
       "2   6.504115e+06  1.743039e+06  POINT (-118.18938 33.78183)  \n",
       "3   6.504120e+06  1.745681e+06  POINT (-118.18938 33.78909)  \n",
       "4   6.503995e+06  1.752228e+06  POINT (-118.18983 33.80708)  \n",
       "..           ...           ...                          ...  \n",
       "91  6.560616e+06  1.870840e+06  POINT (-118.00347 34.13316)  \n",
       "92  6.571447e+06  1.870610e+06  POINT (-117.96768 34.13252)  \n",
       "93  6.582093e+06  1.869352e+06  POINT (-117.93251 34.12905)  \n",
       "94  6.589921e+06  1.871838e+06  POINT (-117.90663 34.13586)  \n",
       "95  6.594458e+06  1.872189e+06  POINT (-117.89164 34.13681)  \n",
       "\n",
       "[96 rows x 14 columns]>"
      ]
     },
     "execution_count": 17,
     "metadata": {},
     "output_type": "execute_result"
    }
   ],
   "source": [
    "# output the original data's info\n",
    "metro.info"
   ]
  },
  {
   "cell_type": "code",
   "execution_count": 20,
   "id": "a70a53b9-40bb-4d6d-9f2a-c475cf3ce173",
   "metadata": {},
   "outputs": [
    {
     "data": {
      "text/html": [
       "<div>\n",
       "<style scoped>\n",
       "    .dataframe tbody tr th:only-of-type {\n",
       "        vertical-align: middle;\n",
       "    }\n",
       "\n",
       "    .dataframe tbody tr th {\n",
       "        vertical-align: top;\n",
       "    }\n",
       "\n",
       "    .dataframe thead th {\n",
       "        text-align: right;\n",
       "    }\n",
       "</style>\n",
       "<table border=\"1\" class=\"dataframe\">\n",
       "  <thead>\n",
       "    <tr style=\"text-align: right;\">\n",
       "      <th></th>\n",
       "      <th>LINE</th>\n",
       "      <th>LINENUM</th>\n",
       "      <th>LINENUM2</th>\n",
       "      <th>STNSEQ</th>\n",
       "      <th>STNSEQ2</th>\n",
       "      <th>DIR</th>\n",
       "      <th>STOPNUM</th>\n",
       "      <th>STATION</th>\n",
       "      <th>LAT</th>\n",
       "      <th>LONG</th>\n",
       "      <th>TPIS_NAME</th>\n",
       "      <th>POINT_X</th>\n",
       "      <th>POINT_Y</th>\n",
       "      <th>geometry</th>\n",
       "    </tr>\n",
       "  </thead>\n",
       "  <tbody>\n",
       "    <tr>\n",
       "      <th>0</th>\n",
       "      <td>Blue</td>\n",
       "      <td>801</td>\n",
       "      <td>0</td>\n",
       "      <td>21</td>\n",
       "      <td>0</td>\n",
       "      <td>None</td>\n",
       "      <td>80101</td>\n",
       "      <td>Downtown Long Beach Station</td>\n",
       "      <td>33.768071</td>\n",
       "      <td>-118.192921</td>\n",
       "      <td>Long Bch</td>\n",
       "      <td>6.503030e+06</td>\n",
       "      <td>1.738034e+06</td>\n",
       "      <td>POINT (-118.19292 33.76807)</td>\n",
       "    </tr>\n",
       "    <tr>\n",
       "      <th>1</th>\n",
       "      <td>Blue</td>\n",
       "      <td>801</td>\n",
       "      <td>0</td>\n",
       "      <td>22</td>\n",
       "      <td>0</td>\n",
       "      <td>North</td>\n",
       "      <td>80102</td>\n",
       "      <td>Pacific Ave Station</td>\n",
       "      <td>33.772258</td>\n",
       "      <td>-118.193700</td>\n",
       "      <td>Pacific</td>\n",
       "      <td>6.502796e+06</td>\n",
       "      <td>1.739558e+06</td>\n",
       "      <td>POINT (-118.19370 33.77226)</td>\n",
       "    </tr>\n",
       "    <tr>\n",
       "      <th>2</th>\n",
       "      <td>Blue</td>\n",
       "      <td>801</td>\n",
       "      <td>0</td>\n",
       "      <td>18</td>\n",
       "      <td>0</td>\n",
       "      <td>None</td>\n",
       "      <td>80105</td>\n",
       "      <td>Anaheim Street Station</td>\n",
       "      <td>33.781830</td>\n",
       "      <td>-118.189384</td>\n",
       "      <td>Anaheim</td>\n",
       "      <td>6.504115e+06</td>\n",
       "      <td>1.743039e+06</td>\n",
       "      <td>POINT (-118.18938 33.78183)</td>\n",
       "    </tr>\n",
       "    <tr>\n",
       "      <th>3</th>\n",
       "      <td>Blue</td>\n",
       "      <td>801</td>\n",
       "      <td>0</td>\n",
       "      <td>17</td>\n",
       "      <td>0</td>\n",
       "      <td>None</td>\n",
       "      <td>80106</td>\n",
       "      <td>Pacific Coast Hwy Station</td>\n",
       "      <td>33.789090</td>\n",
       "      <td>-118.189382</td>\n",
       "      <td>PCH</td>\n",
       "      <td>6.504120e+06</td>\n",
       "      <td>1.745681e+06</td>\n",
       "      <td>POINT (-118.18938 33.78909)</td>\n",
       "    </tr>\n",
       "    <tr>\n",
       "      <th>4</th>\n",
       "      <td>Blue</td>\n",
       "      <td>801</td>\n",
       "      <td>0</td>\n",
       "      <td>16</td>\n",
       "      <td>0</td>\n",
       "      <td>None</td>\n",
       "      <td>80107</td>\n",
       "      <td>Willow Street Station</td>\n",
       "      <td>33.807079</td>\n",
       "      <td>-118.189834</td>\n",
       "      <td>Willow</td>\n",
       "      <td>6.503995e+06</td>\n",
       "      <td>1.752228e+06</td>\n",
       "      <td>POINT (-118.18983 33.80708)</td>\n",
       "    </tr>\n",
       "  </tbody>\n",
       "</table>\n",
       "</div>"
      ],
      "text/plain": [
       "   LINE  LINENUM  LINENUM2  STNSEQ  STNSEQ2    DIR  STOPNUM  \\\n",
       "0  Blue      801         0      21        0   None    80101   \n",
       "1  Blue      801         0      22        0  North    80102   \n",
       "2  Blue      801         0      18        0   None    80105   \n",
       "3  Blue      801         0      17        0   None    80106   \n",
       "4  Blue      801         0      16        0   None    80107   \n",
       "\n",
       "                       STATION        LAT        LONG TPIS_NAME       POINT_X  \\\n",
       "0  Downtown Long Beach Station  33.768071 -118.192921  Long Bch  6.503030e+06   \n",
       "1          Pacific Ave Station  33.772258 -118.193700   Pacific  6.502796e+06   \n",
       "2       Anaheim Street Station  33.781830 -118.189384   Anaheim  6.504115e+06   \n",
       "3    Pacific Coast Hwy Station  33.789090 -118.189382       PCH  6.504120e+06   \n",
       "4        Willow Street Station  33.807079 -118.189834    Willow  6.503995e+06   \n",
       "\n",
       "        POINT_Y                     geometry  \n",
       "0  1.738034e+06  POINT (-118.19292 33.76807)  \n",
       "1  1.739558e+06  POINT (-118.19370 33.77226)  \n",
       "2  1.743039e+06  POINT (-118.18938 33.78183)  \n",
       "3  1.745681e+06  POINT (-118.18938 33.78909)  \n",
       "4  1.752228e+06  POINT (-118.18983 33.80708)  "
      ]
     },
     "execution_count": 20,
     "metadata": {},
     "output_type": "execute_result"
    }
   ],
   "source": [
    "# what does the data look like? \n",
    "metro.head()"
   ]
  },
  {
   "cell_type": "code",
   "execution_count": 19,
   "id": "df4b84cd-27d1-4a55-ab03-b5de33975131",
   "metadata": {},
   "outputs": [
    {
     "data": {
      "text/plain": [
       "<Axes: >"
      ]
     },
     "execution_count": 19,
     "metadata": {},
     "output_type": "execute_result"
    },
    {
     "data": {
      "image/png": "[encoded data removed]",
      "text/plain": [
       "<Figure size 640x480 with 1 Axes>"
      ]
     },
     "metadata": {},
     "output_type": "display_data"
    }
   ],
   "source": [
    "# plotting data\n",
    "metro.plot()"
   ]
  },
  {
   "cell_type": "code",
   "execution_count": 23,
   "id": "27cc31d3-03c1-4439-8d36-e5e27956b100",
   "metadata": {},
   "outputs": [
    {
     "data": {
      "text/plain": [
       "LINE\n",
       "Gold          27\n",
       "Blue          20\n",
       "EXPO          17\n",
       "Green         14\n",
       "Red            8\n",
       "Red/Purple     6\n",
       "Blue/EXPO      2\n",
       "Purple         2\n",
       "Name: count, dtype: int64"
      ]
     },
     "execution_count": 23,
     "metadata": {},
     "output_type": "execute_result"
    }
   ],
   "source": [
    "# counting value of each category\n",
    "metro['LINE'].value_counts()"
   ]
  },
  {
   "cell_type": "code",
   "execution_count": null,
   "id": "6777f50f-c001-4b27-8f86-c9067f21ee8a",
   "metadata": {},
   "outputs": [],
   "source": []
  }
 ],
 "metadata": {
  "kernelspec": {
   "display_name": "Python 3 (ipykernel)",
   "language": "python",
   "name": "python3"
  },
  "language_info": {
   "codemirror_mode": {
    "name": "ipython",
    "version": 3
   },
   "file_extension": ".py",
   "mimetype": "text/x-python",
   "name": "python",
   "nbconvert_exporter": "python",
   "pygments_lexer": "ipython3",
   "version": "3.11.7"
  }
 },
 "nbformat": 4,
 "nbformat_minor": 5
}
