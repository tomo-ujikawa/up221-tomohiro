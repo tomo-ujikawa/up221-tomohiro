{
 "cells": [
  {
   "cell_type": "code",
   "execution_count": 63,
   "id": "8125924c-88f6-4728-ab81-4d18d28439ac",
   "metadata": {},
   "outputs": [],
   "source": [
    "# Week2 Individual Assignment\n",
    "# I imported data from [geohub](https://geohub.lacity.org/datasets/8f1a0d1808db44f8b3fefaaa5f456efd_0/explore?location=33.780109%2C-118.302668%2C8.73)\n",
    "# , which is a data about the proportion of households without vehicles at LA county.\n",
    "# I tried to analyze this data for revealing the geographical disparities of car ownership."
   ]
  },
  {
   "cell_type": "code",
   "execution_count": 3,
   "id": "97a72407-c931-4abd-80bf-16fd907ca9b2",
   "metadata": {},
   "outputs": [],
   "source": [
    "import pandas as pd\n",
    "import geopandas as gpd"
   ]
  },
  {
   "cell_type": "code",
   "execution_count": 29,
   "id": "f91deeb0-79d3-4461-a5a3-13225f96eeae",
   "metadata": {},
   "outputs": [],
   "source": [
    "# read and add shapefile to notebook\n",
    "df = gpd.read_file('data/Without_Vehicle_(census_tract).geojson')"
   ]
  },
  {
   "cell_type": "code",
   "execution_count": 30,
   "id": "078b3b72-c5a4-45cd-be4e-e8eb0da8cc8c",
   "metadata": {},
   "outputs": [
    {
     "data": {
      "text/plain": [
       "geopandas.geodataframe.GeoDataFrame"
      ]
     },
     "execution_count": 30,
     "metadata": {},
     "output_type": "execute_result"
    }
   ],
   "source": [
    "type(df)"
   ]
  },
  {
   "cell_type": "code",
   "execution_count": 31,
   "id": "6e487fc9-1009-4c81-87f5-ad33e7a91aa9",
   "metadata": {},
   "outputs": [
    {
     "data": {
      "text/plain": [
       "(2495, 11)"
      ]
     },
     "execution_count": 31,
     "metadata": {},
     "output_type": "execute_result"
    }
   ],
   "source": [
    "# how many rows and columns?\n",
    "df.shape"
   ]
  },
  {
   "cell_type": "code",
   "execution_count": 32,
   "id": "d87a7f13-2f8a-464c-92f4-08e50a56461a",
   "metadata": {},
   "outputs": [
    {
     "data": {
      "text/plain": [
       "<bound method DataFrame.info of             tract  no_vehicle  no_vehicle_universe  no_vehicle_pct  \\\n",
       "0     06037101110         192                 1494            12.9   \n",
       "1     06037101122           9                 1372             0.7   \n",
       "2     06037101220          73                 1357             5.4   \n",
       "3     06037101221         215                 1450            14.8   \n",
       "4     06037101222         196                  935            21.0   \n",
       "...           ...         ...                  ...             ...   \n",
       "2490  06037980026           0                    0             NaN   \n",
       "2491  06037980028           0                    0             NaN   \n",
       "2492  06037980035          20                  164            12.2   \n",
       "2493  06037980036           0                  106             0.0   \n",
       "2494  06037980037           0                    0             NaN   \n",
       "\n",
       "        sup_dist                                    csa                   spa  \\\n",
       "0     District 5                  Los Angeles - Tujunga  SPA 2 - San Fernando   \n",
       "1     District 5                  Los Angeles - Tujunga  SPA 2 - San Fernando   \n",
       "2     District 5                  Los Angeles - Tujunga  SPA 2 - San Fernando   \n",
       "3     District 5                  Los Angeles - Tujunga  SPA 2 - San Fernando   \n",
       "4     District 5                  Los Angeles - Tujunga  SPA 2 - San Fernando   \n",
       "...          ...                                    ...                   ...   \n",
       "2490  District 5  Los Angeles - Angeles National Forest  SPA 2 - San Fernando   \n",
       "2491  District 2              Los Angeles - Westchester          SPA 5 - West   \n",
       "2492  District 1                       City of Industry   SPA 3 - San Gabriel   \n",
       "2493  District 1      Unincorporated - Whittier Narrows   SPA 3 - San Gabriel   \n",
       "2494  District 2                         City of Carson     SPA 8 - South Bay   \n",
       "\n",
       "      ESRI_OID   Shape__Area  Shape__Length  \\\n",
       "0         4842  1.232981e+07   14765.649004   \n",
       "1         4843  2.908866e+07   30028.213771   \n",
       "2         4844  7.532651e+06   12504.552130   \n",
       "3         4845  3.874399e+06    8938.421349   \n",
       "4         4846  3.090538e+06    9750.960420   \n",
       "...        ...           ...            ...   \n",
       "2490      7332  1.496110e+08  101888.807192   \n",
       "2491      7333  1.818711e+08   80476.270923   \n",
       "2492      7334  1.715306e+08  105850.878716   \n",
       "2493      7335  9.410894e+07   63183.082619   \n",
       "2494      7336  1.376446e+07   14866.138291   \n",
       "\n",
       "                                               geometry  \n",
       "0     POLYGON ((-118.30077 34.25961, -118.30077 34.2...  \n",
       "1     POLYGON ((-118.30321 34.27334, -118.29971 34.2...  \n",
       "2     POLYGON ((-118.28594 34.25228, -118.28594 34.2...  \n",
       "3     POLYGON ((-118.29946 34.25598, -118.29319 34.2...  \n",
       "4     POLYGON ((-118.29319 34.25233, -118.28863 34.2...  \n",
       "...                                                 ...  \n",
       "2490  POLYGON ((-118.35174 34.28248, -118.32684 34.2...  \n",
       "2491  POLYGON ((-118.44457 33.95132, -118.44012 33.9...  \n",
       "2492  POLYGON ((-117.99802 34.02968, -117.99593 34.0...  \n",
       "2493  POLYGON ((-118.08206 34.02148, -118.07362 34.0...  \n",
       "2494  POLYGON ((-118.28858 33.80427, -118.28752 33.8...  \n",
       "\n",
       "[2495 rows x 11 columns]>"
      ]
     },
     "execution_count": 32,
     "metadata": {},
     "output_type": "execute_result"
    }
   ],
   "source": [
    "# output the original data's info\n",
    "df.info"
   ]
  },
  {
   "cell_type": "code",
   "execution_count": 33,
   "id": "996eba1f-5eb0-4449-8348-10578ae5ca85",
   "metadata": {},
   "outputs": [
    {
     "data": {
      "text/plain": [
       "['tract',\n",
       " 'no_vehicle',\n",
       " 'no_vehicle_universe',\n",
       " 'no_vehicle_pct',\n",
       " 'sup_dist',\n",
       " 'csa',\n",
       " 'spa',\n",
       " 'ESRI_OID',\n",
       " 'Shape__Area',\n",
       " 'Shape__Length',\n",
       " 'geometry']"
      ]
     },
     "execution_count": 33,
     "metadata": {},
     "output_type": "execute_result"
    }
   ],
   "source": [
    "# what are the columns?\n",
    "df.columns.to_list()"
   ]
  },
  {
   "cell_type": "code",
   "execution_count": 34,
   "id": "27cc31d3-03c1-4439-8d36-e5e27956b100",
   "metadata": {},
   "outputs": [
    {
     "data": {
      "text/plain": [
       "spa\n",
       "SPA 2 - San Fernando       558\n",
       "SPA 3 - San Gabriel        392\n",
       "SPA 8 - South Bay          380\n",
       "SPA 4 - Metro              352\n",
       "SPA 7 - East               290\n",
       "SPA 6 - South              245\n",
       "SPA 5 - West               185\n",
       "SPA 1 - Antelope Valley     93\n",
       "Name: count, dtype: int64"
      ]
     },
     "execution_count": 34,
     "metadata": {},
     "output_type": "execute_result"
    }
   ],
   "source": [
    "# counting value of each category\n",
    "df['spa'].value_counts()"
   ]
  },
  {
   "cell_type": "code",
   "execution_count": 35,
   "id": "e6145b2a-cd73-4bc5-b20d-112cbea15eac",
   "metadata": {},
   "outputs": [
    {
     "data": {
      "text/plain": [
       "spa\n",
       "SPA 2 - San Fernando       558\n",
       "SPA 3 - San Gabriel        392\n",
       "SPA 8 - South Bay          380\n",
       "SPA 4 - Metro              352\n",
       "SPA 7 - East               290\n",
       "SPA 6 - South              245\n",
       "SPA 5 - West               185\n",
       "SPA 1 - Antelope Valley     93\n",
       "Name: count, dtype: int64"
      ]
     },
     "execution_count": 35,
     "metadata": {},
     "output_type": "execute_result"
    }
   ],
   "source": [
    "# save it as a variable\n",
    "spa_count = df['spa'].value_counts()\n",
    "spa_count"
   ]
  },
  {
   "cell_type": "code",
   "execution_count": 36,
   "id": "a81e5018-a121-45c3-bc9b-2bd33d6d8308",
   "metadata": {},
   "outputs": [
    {
     "data": {
      "text/html": [
       "<div>\n",
       "<style scoped>\n",
       "    .dataframe tbody tr th:only-of-type {\n",
       "        vertical-align: middle;\n",
       "    }\n",
       "\n",
       "    .dataframe tbody tr th {\n",
       "        vertical-align: top;\n",
       "    }\n",
       "\n",
       "    .dataframe thead th {\n",
       "        text-align: right;\n",
       "    }\n",
       "</style>\n",
       "<table border=\"1\" class=\"dataframe\">\n",
       "  <thead>\n",
       "    <tr style=\"text-align: right;\">\n",
       "      <th></th>\n",
       "      <th>spa</th>\n",
       "      <th>count</th>\n",
       "    </tr>\n",
       "  </thead>\n",
       "  <tbody>\n",
       "    <tr>\n",
       "      <th>0</th>\n",
       "      <td>SPA 2 - San Fernando</td>\n",
       "      <td>558</td>\n",
       "    </tr>\n",
       "    <tr>\n",
       "      <th>1</th>\n",
       "      <td>SPA 3 - San Gabriel</td>\n",
       "      <td>392</td>\n",
       "    </tr>\n",
       "    <tr>\n",
       "      <th>2</th>\n",
       "      <td>SPA 8 - South Bay</td>\n",
       "      <td>380</td>\n",
       "    </tr>\n",
       "    <tr>\n",
       "      <th>3</th>\n",
       "      <td>SPA 4 - Metro</td>\n",
       "      <td>352</td>\n",
       "    </tr>\n",
       "    <tr>\n",
       "      <th>4</th>\n",
       "      <td>SPA 7 - East</td>\n",
       "      <td>290</td>\n",
       "    </tr>\n",
       "    <tr>\n",
       "      <th>5</th>\n",
       "      <td>SPA 6 - South</td>\n",
       "      <td>245</td>\n",
       "    </tr>\n",
       "    <tr>\n",
       "      <th>6</th>\n",
       "      <td>SPA 5 - West</td>\n",
       "      <td>185</td>\n",
       "    </tr>\n",
       "    <tr>\n",
       "      <th>7</th>\n",
       "      <td>SPA 1 - Antelope Valley</td>\n",
       "      <td>93</td>\n",
       "    </tr>\n",
       "  </tbody>\n",
       "</table>\n",
       "</div>"
      ],
      "text/plain": [
       "                       spa  count\n",
       "0     SPA 2 - San Fernando    558\n",
       "1      SPA 3 - San Gabriel    392\n",
       "2        SPA 8 - South Bay    380\n",
       "3            SPA 4 - Metro    352\n",
       "4             SPA 7 - East    290\n",
       "5            SPA 6 - South    245\n",
       "6             SPA 5 - West    185\n",
       "7  SPA 1 - Antelope Valley     93"
      ]
     },
     "execution_count": 36,
     "metadata": {},
     "output_type": "execute_result"
    }
   ],
   "source": [
    "# convert the series into a dataframe\n",
    "spa_count = spa_count.reset_index()\n",
    "spa_count"
   ]
  },
  {
   "cell_type": "code",
   "execution_count": 37,
   "id": "013b7c14-a66f-402a-8ea7-01c50bc1f580",
   "metadata": {},
   "outputs": [
    {
     "data": {
      "text/plain": [
       "['spa', 'count']"
      ]
     },
     "execution_count": 37,
     "metadata": {},
     "output_type": "execute_result"
    }
   ],
   "source": [
    "# current columns as a list\n",
    "spa_count.columns.to_list()"
   ]
  },
  {
   "cell_type": "code",
   "execution_count": 38,
   "id": "1b5fc2bf-905b-4648-9b80-dc3c86b51751",
   "metadata": {},
   "outputs": [
    {
     "data": {
      "text/html": [
       "<div>\n",
       "<style scoped>\n",
       "    .dataframe tbody tr th:only-of-type {\n",
       "        vertical-align: middle;\n",
       "    }\n",
       "\n",
       "    .dataframe tbody tr th {\n",
       "        vertical-align: top;\n",
       "    }\n",
       "\n",
       "    .dataframe thead th {\n",
       "        text-align: right;\n",
       "    }\n",
       "</style>\n",
       "<table border=\"1\" class=\"dataframe\">\n",
       "  <thead>\n",
       "    <tr style=\"text-align: right;\">\n",
       "      <th></th>\n",
       "      <th>SPA</th>\n",
       "      <th>COUNT</th>\n",
       "    </tr>\n",
       "  </thead>\n",
       "  <tbody>\n",
       "    <tr>\n",
       "      <th>0</th>\n",
       "      <td>SPA 2 - San Fernando</td>\n",
       "      <td>558</td>\n",
       "    </tr>\n",
       "    <tr>\n",
       "      <th>1</th>\n",
       "      <td>SPA 3 - San Gabriel</td>\n",
       "      <td>392</td>\n",
       "    </tr>\n",
       "    <tr>\n",
       "      <th>2</th>\n",
       "      <td>SPA 8 - South Bay</td>\n",
       "      <td>380</td>\n",
       "    </tr>\n",
       "    <tr>\n",
       "      <th>3</th>\n",
       "      <td>SPA 4 - Metro</td>\n",
       "      <td>352</td>\n",
       "    </tr>\n",
       "    <tr>\n",
       "      <th>4</th>\n",
       "      <td>SPA 7 - East</td>\n",
       "      <td>290</td>\n",
       "    </tr>\n",
       "    <tr>\n",
       "      <th>5</th>\n",
       "      <td>SPA 6 - South</td>\n",
       "      <td>245</td>\n",
       "    </tr>\n",
       "    <tr>\n",
       "      <th>6</th>\n",
       "      <td>SPA 5 - West</td>\n",
       "      <td>185</td>\n",
       "    </tr>\n",
       "    <tr>\n",
       "      <th>7</th>\n",
       "      <td>SPA 1 - Antelope Valley</td>\n",
       "      <td>93</td>\n",
       "    </tr>\n",
       "  </tbody>\n",
       "</table>\n",
       "</div>"
      ],
      "text/plain": [
       "                       SPA  COUNT\n",
       "0     SPA 2 - San Fernando    558\n",
       "1      SPA 3 - San Gabriel    392\n",
       "2        SPA 8 - South Bay    380\n",
       "3            SPA 4 - Metro    352\n",
       "4             SPA 7 - East    290\n",
       "5            SPA 6 - South    245\n",
       "6             SPA 5 - West    185\n",
       "7  SPA 1 - Antelope Valley     93"
      ]
     },
     "execution_count": 38,
     "metadata": {},
     "output_type": "execute_result"
    }
   ],
   "source": [
    "# rename columns\n",
    "spa_count.columns = ['SPA', 'COUNT']\n",
    "spa_count"
   ]
  },
  {
   "cell_type": "code",
   "execution_count": 43,
   "id": "df4b84cd-27d1-4a55-ab03-b5de33975131",
   "metadata": {},
   "outputs": [
    {
     "data": {
      "text/plain": [
       "<Axes: >"
      ]
     },
     "execution_count": 43,
     "metadata": {},
     "output_type": "execute_result"
    },
    {
     "data": {
      "image/png": "[encoded data removed]",
      "text/plain": [
       "<Figure size 640x480 with 1 Axes>"
      ]
     },
     "metadata": {},
     "output_type": "display_data"
    }
   ],
   "source": [
    "# plotting data of counts in each SPA\n",
    "spa_count.plot()"
   ]
  },
  {
   "cell_type": "code",
   "execution_count": 50,
   "id": "5c546939-a69d-4333-8be1-92d38d2fea17",
   "metadata": {},
   "outputs": [
    {
     "data": {
      "text/plain": [
       "<Axes: title={'center': 'Number of tracts per SPA'}, xlabel='SPA'>"
      ]
     },
     "execution_count": 50,
     "metadata": {},
     "output_type": "execute_result"
    },
    {
     "data": {
      "image/png": "[encoded data removed]",
      "text/plain": [
       "<Figure size 640x480 with 1 Axes>"
      ]
     },
     "metadata": {},
     "output_type": "display_data"
    }
   ],
   "source": [
    "# shows it in a bar chart\n",
    "spa_count.plot.bar (x = 'SPA', y = 'COUNT', title = 'Number of tracts per SPA')"
   ]
  },
  {
   "cell_type": "code",
   "execution_count": 39,
   "id": "d8a554e8-3318-47e4-8745-eab114506e5c",
   "metadata": {},
   "outputs": [
    {
     "data": {
      "text/html": [
       "<div>\n",
       "<style scoped>\n",
       "    .dataframe tbody tr th:only-of-type {\n",
       "        vertical-align: middle;\n",
       "    }\n",
       "\n",
       "    .dataframe tbody tr th {\n",
       "        vertical-align: top;\n",
       "    }\n",
       "\n",
       "    .dataframe thead th {\n",
       "        text-align: right;\n",
       "    }\n",
       "</style>\n",
       "<table border=\"1\" class=\"dataframe\">\n",
       "  <thead>\n",
       "    <tr style=\"text-align: right;\">\n",
       "      <th></th>\n",
       "      <th>spa</th>\n",
       "      <th>no_vehicle_pct</th>\n",
       "    </tr>\n",
       "  </thead>\n",
       "  <tbody>\n",
       "    <tr>\n",
       "      <th>0</th>\n",
       "      <td>SPA 2 - San Fernando</td>\n",
       "      <td>12.9</td>\n",
       "    </tr>\n",
       "    <tr>\n",
       "      <th>1</th>\n",
       "      <td>SPA 2 - San Fernando</td>\n",
       "      <td>0.7</td>\n",
       "    </tr>\n",
       "    <tr>\n",
       "      <th>2</th>\n",
       "      <td>SPA 2 - San Fernando</td>\n",
       "      <td>5.4</td>\n",
       "    </tr>\n",
       "    <tr>\n",
       "      <th>3</th>\n",
       "      <td>SPA 2 - San Fernando</td>\n",
       "      <td>14.8</td>\n",
       "    </tr>\n",
       "    <tr>\n",
       "      <th>4</th>\n",
       "      <td>SPA 2 - San Fernando</td>\n",
       "      <td>21.0</td>\n",
       "    </tr>\n",
       "    <tr>\n",
       "      <th>...</th>\n",
       "      <td>...</td>\n",
       "      <td>...</td>\n",
       "    </tr>\n",
       "    <tr>\n",
       "      <th>2490</th>\n",
       "      <td>SPA 2 - San Fernando</td>\n",
       "      <td>NaN</td>\n",
       "    </tr>\n",
       "    <tr>\n",
       "      <th>2491</th>\n",
       "      <td>SPA 5 - West</td>\n",
       "      <td>NaN</td>\n",
       "    </tr>\n",
       "    <tr>\n",
       "      <th>2492</th>\n",
       "      <td>SPA 3 - San Gabriel</td>\n",
       "      <td>12.2</td>\n",
       "    </tr>\n",
       "    <tr>\n",
       "      <th>2493</th>\n",
       "      <td>SPA 3 - San Gabriel</td>\n",
       "      <td>0.0</td>\n",
       "    </tr>\n",
       "    <tr>\n",
       "      <th>2494</th>\n",
       "      <td>SPA 8 - South Bay</td>\n",
       "      <td>NaN</td>\n",
       "    </tr>\n",
       "  </tbody>\n",
       "</table>\n",
       "<p>2495 rows × 2 columns</p>\n",
       "</div>"
      ],
      "text/plain": [
       "                       spa  no_vehicle_pct\n",
       "0     SPA 2 - San Fernando            12.9\n",
       "1     SPA 2 - San Fernando             0.7\n",
       "2     SPA 2 - San Fernando             5.4\n",
       "3     SPA 2 - San Fernando            14.8\n",
       "4     SPA 2 - San Fernando            21.0\n",
       "...                    ...             ...\n",
       "2490  SPA 2 - San Fernando             NaN\n",
       "2491          SPA 5 - West             NaN\n",
       "2492   SPA 3 - San Gabriel            12.2\n",
       "2493   SPA 3 - San Gabriel             0.0\n",
       "2494     SPA 8 - South Bay             NaN\n",
       "\n",
       "[2495 rows x 2 columns]"
      ]
     },
     "execution_count": 39,
     "metadata": {},
     "output_type": "execute_result"
    }
   ],
   "source": [
    "# trimming ver1: show a dataframe with a subset of columns\n",
    "df[['spa','no_vehicle_pct']]"
   ]
  },
  {
   "cell_type": "code",
   "execution_count": 40,
   "id": "bc929af0-298c-4be8-91ac-9e8c169d8ddb",
   "metadata": {},
   "outputs": [
    {
     "data": {
      "text/html": [
       "<div>\n",
       "<style scoped>\n",
       "    .dataframe tbody tr th:only-of-type {\n",
       "        vertical-align: middle;\n",
       "    }\n",
       "\n",
       "    .dataframe tbody tr th {\n",
       "        vertical-align: top;\n",
       "    }\n",
       "\n",
       "    .dataframe thead th {\n",
       "        text-align: right;\n",
       "    }\n",
       "</style>\n",
       "<table border=\"1\" class=\"dataframe\">\n",
       "  <thead>\n",
       "    <tr style=\"text-align: right;\">\n",
       "      <th></th>\n",
       "      <th>spa</th>\n",
       "      <th>no_vehicle_pct</th>\n",
       "    </tr>\n",
       "  </thead>\n",
       "  <tbody>\n",
       "    <tr>\n",
       "      <th>821</th>\n",
       "      <td>SPA 6 - South</td>\n",
       "      <td>18.3</td>\n",
       "    </tr>\n",
       "    <tr>\n",
       "      <th>938</th>\n",
       "      <td>SPA 5 - West</td>\n",
       "      <td>1.9</td>\n",
       "    </tr>\n",
       "    <tr>\n",
       "      <th>1209</th>\n",
       "      <td>SPA 3 - San Gabriel</td>\n",
       "      <td>1.6</td>\n",
       "    </tr>\n",
       "    <tr>\n",
       "      <th>1692</th>\n",
       "      <td>SPA 7 - East</td>\n",
       "      <td>15.6</td>\n",
       "    </tr>\n",
       "    <tr>\n",
       "      <th>2376</th>\n",
       "      <td>SPA 1 - Antelope Valley</td>\n",
       "      <td>2.3</td>\n",
       "    </tr>\n",
       "  </tbody>\n",
       "</table>\n",
       "</div>"
      ],
      "text/plain": [
       "                          spa  no_vehicle_pct\n",
       "821             SPA 6 - South            18.3\n",
       "938              SPA 5 - West             1.9\n",
       "1209      SPA 3 - San Gabriel             1.6\n",
       "1692             SPA 7 - East            15.6\n",
       "2376  SPA 1 - Antelope Valley             2.3"
      ]
     },
     "execution_count": 40,
     "metadata": {},
     "output_type": "execute_result"
    }
   ],
   "source": [
    "# trimming ver2: show a dataframe with a subset of columns\n",
    "desired_columns = ['spa','no_vehicle_pct']\n",
    "\n",
    "# subset based on desired columns\n",
    "df[desired_columns].sample(5)"
   ]
  },
  {
   "cell_type": "code",
   "execution_count": 41,
   "id": "87788321-378a-411a-93fe-d0f6844e8842",
   "metadata": {},
   "outputs": [
    {
     "data": {
      "text/html": [
       "<div>\n",
       "<style scoped>\n",
       "    .dataframe tbody tr th:only-of-type {\n",
       "        vertical-align: middle;\n",
       "    }\n",
       "\n",
       "    .dataframe tbody tr th {\n",
       "        vertical-align: top;\n",
       "    }\n",
       "\n",
       "    .dataframe thead th {\n",
       "        text-align: right;\n",
       "    }\n",
       "</style>\n",
       "<table border=\"1\" class=\"dataframe\">\n",
       "  <thead>\n",
       "    <tr style=\"text-align: right;\">\n",
       "      <th></th>\n",
       "      <th>spa</th>\n",
       "      <th>no_vehicle_pct</th>\n",
       "    </tr>\n",
       "  </thead>\n",
       "  <tbody>\n",
       "    <tr>\n",
       "      <th>0</th>\n",
       "      <td>SPA 2 - San Fernando</td>\n",
       "      <td>12.9</td>\n",
       "    </tr>\n",
       "    <tr>\n",
       "      <th>1</th>\n",
       "      <td>SPA 2 - San Fernando</td>\n",
       "      <td>0.7</td>\n",
       "    </tr>\n",
       "    <tr>\n",
       "      <th>2</th>\n",
       "      <td>SPA 2 - San Fernando</td>\n",
       "      <td>5.4</td>\n",
       "    </tr>\n",
       "    <tr>\n",
       "      <th>3</th>\n",
       "      <td>SPA 2 - San Fernando</td>\n",
       "      <td>14.8</td>\n",
       "    </tr>\n",
       "    <tr>\n",
       "      <th>4</th>\n",
       "      <td>SPA 2 - San Fernando</td>\n",
       "      <td>21.0</td>\n",
       "    </tr>\n",
       "    <tr>\n",
       "      <th>...</th>\n",
       "      <td>...</td>\n",
       "      <td>...</td>\n",
       "    </tr>\n",
       "    <tr>\n",
       "      <th>2490</th>\n",
       "      <td>SPA 2 - San Fernando</td>\n",
       "      <td>NaN</td>\n",
       "    </tr>\n",
       "    <tr>\n",
       "      <th>2491</th>\n",
       "      <td>SPA 5 - West</td>\n",
       "      <td>NaN</td>\n",
       "    </tr>\n",
       "    <tr>\n",
       "      <th>2492</th>\n",
       "      <td>SPA 3 - San Gabriel</td>\n",
       "      <td>12.2</td>\n",
       "    </tr>\n",
       "    <tr>\n",
       "      <th>2493</th>\n",
       "      <td>SPA 3 - San Gabriel</td>\n",
       "      <td>0.0</td>\n",
       "    </tr>\n",
       "    <tr>\n",
       "      <th>2494</th>\n",
       "      <td>SPA 8 - South Bay</td>\n",
       "      <td>NaN</td>\n",
       "    </tr>\n",
       "  </tbody>\n",
       "</table>\n",
       "<p>2495 rows × 2 columns</p>\n",
       "</div>"
      ],
      "text/plain": [
       "                       spa  no_vehicle_pct\n",
       "0     SPA 2 - San Fernando            12.9\n",
       "1     SPA 2 - San Fernando             0.7\n",
       "2     SPA 2 - San Fernando             5.4\n",
       "3     SPA 2 - San Fernando            14.8\n",
       "4     SPA 2 - San Fernando            21.0\n",
       "...                    ...             ...\n",
       "2490  SPA 2 - San Fernando             NaN\n",
       "2491          SPA 5 - West             NaN\n",
       "2492   SPA 3 - San Gabriel            12.2\n",
       "2493   SPA 3 - San Gabriel             0.0\n",
       "2494     SPA 8 - South Bay             NaN\n",
       "\n",
       "[2495 rows x 2 columns]"
      ]
     },
     "execution_count": 41,
     "metadata": {},
     "output_type": "execute_result"
    }
   ],
   "source": [
    "# saving new dataframe of desired columns\n",
    "df_trimmed = df[desired_columns].copy()\n",
    "df_trimmed"
   ]
  },
  {
   "cell_type": "code",
   "execution_count": 42,
   "id": "e311d38d-0104-4b1b-b5e1-b95443b778e1",
   "metadata": {},
   "outputs": [
    {
     "data": {
      "text/html": [
       "<div>\n",
       "<style scoped>\n",
       "    .dataframe tbody tr th:only-of-type {\n",
       "        vertical-align: middle;\n",
       "    }\n",
       "\n",
       "    .dataframe tbody tr th {\n",
       "        vertical-align: top;\n",
       "    }\n",
       "\n",
       "    .dataframe thead th {\n",
       "        text-align: right;\n",
       "    }\n",
       "</style>\n",
       "<table border=\"1\" class=\"dataframe\">\n",
       "  <thead>\n",
       "    <tr style=\"text-align: right;\">\n",
       "      <th></th>\n",
       "      <th>spa</th>\n",
       "      <th>no_vehicle_pct</th>\n",
       "    </tr>\n",
       "  </thead>\n",
       "  <tbody>\n",
       "    <tr>\n",
       "      <th>0</th>\n",
       "      <td>SPA 2 - San Fernando</td>\n",
       "      <td>12.9</td>\n",
       "    </tr>\n",
       "    <tr>\n",
       "      <th>1</th>\n",
       "      <td>SPA 2 - San Fernando</td>\n",
       "      <td>0.7</td>\n",
       "    </tr>\n",
       "    <tr>\n",
       "      <th>2</th>\n",
       "      <td>SPA 2 - San Fernando</td>\n",
       "      <td>5.4</td>\n",
       "    </tr>\n",
       "    <tr>\n",
       "      <th>3</th>\n",
       "      <td>SPA 2 - San Fernando</td>\n",
       "      <td>14.8</td>\n",
       "    </tr>\n",
       "    <tr>\n",
       "      <th>4</th>\n",
       "      <td>SPA 2 - San Fernando</td>\n",
       "      <td>21.0</td>\n",
       "    </tr>\n",
       "    <tr>\n",
       "      <th>...</th>\n",
       "      <td>...</td>\n",
       "      <td>...</td>\n",
       "    </tr>\n",
       "    <tr>\n",
       "      <th>2485</th>\n",
       "      <td>SPA 2 - San Fernando</td>\n",
       "      <td>NaN</td>\n",
       "    </tr>\n",
       "    <tr>\n",
       "      <th>2486</th>\n",
       "      <td>SPA 2 - San Fernando</td>\n",
       "      <td>0.0</td>\n",
       "    </tr>\n",
       "    <tr>\n",
       "      <th>2487</th>\n",
       "      <td>SPA 2 - San Fernando</td>\n",
       "      <td>NaN</td>\n",
       "    </tr>\n",
       "    <tr>\n",
       "      <th>2488</th>\n",
       "      <td>SPA 2 - San Fernando</td>\n",
       "      <td>6.1</td>\n",
       "    </tr>\n",
       "    <tr>\n",
       "      <th>2490</th>\n",
       "      <td>SPA 2 - San Fernando</td>\n",
       "      <td>NaN</td>\n",
       "    </tr>\n",
       "  </tbody>\n",
       "</table>\n",
       "<p>558 rows × 2 columns</p>\n",
       "</div>"
      ],
      "text/plain": [
       "                       spa  no_vehicle_pct\n",
       "0     SPA 2 - San Fernando            12.9\n",
       "1     SPA 2 - San Fernando             0.7\n",
       "2     SPA 2 - San Fernando             5.4\n",
       "3     SPA 2 - San Fernando            14.8\n",
       "4     SPA 2 - San Fernando            21.0\n",
       "...                    ...             ...\n",
       "2485  SPA 2 - San Fernando             NaN\n",
       "2486  SPA 2 - San Fernando             0.0\n",
       "2487  SPA 2 - San Fernando             NaN\n",
       "2488  SPA 2 - San Fernando             6.1\n",
       "2490  SPA 2 - San Fernando             NaN\n",
       "\n",
       "[558 rows x 2 columns]"
      ]
     },
     "execution_count": 42,
     "metadata": {},
     "output_type": "execute_result"
    }
   ],
   "source": [
    "# filtering data\n",
    "df_trimmed[df_trimmed.spa == 'SPA 2 - San Fernando']"
   ]
  },
  {
   "cell_type": "code",
   "execution_count": 48,
   "id": "190ec2be-ffb8-4a04-9abe-023d147bc736",
   "metadata": {},
   "outputs": [
    {
     "data": {
      "text/html": [
       "<div>\n",
       "<style scoped>\n",
       "    .dataframe tbody tr th:only-of-type {\n",
       "        vertical-align: middle;\n",
       "    }\n",
       "\n",
       "    .dataframe tbody tr th {\n",
       "        vertical-align: top;\n",
       "    }\n",
       "\n",
       "    .dataframe thead th {\n",
       "        text-align: right;\n",
       "    }\n",
       "</style>\n",
       "<table border=\"1\" class=\"dataframe\">\n",
       "  <thead>\n",
       "    <tr style=\"text-align: right;\">\n",
       "      <th></th>\n",
       "      <th>index</th>\n",
       "      <th>no_vehicle_pct</th>\n",
       "    </tr>\n",
       "  </thead>\n",
       "  <tbody>\n",
       "    <tr>\n",
       "      <th>0</th>\n",
       "      <td>0</td>\n",
       "      <td>12.9</td>\n",
       "    </tr>\n",
       "    <tr>\n",
       "      <th>1</th>\n",
       "      <td>1</td>\n",
       "      <td>0.7</td>\n",
       "    </tr>\n",
       "    <tr>\n",
       "      <th>2</th>\n",
       "      <td>2</td>\n",
       "      <td>5.4</td>\n",
       "    </tr>\n",
       "    <tr>\n",
       "      <th>3</th>\n",
       "      <td>3</td>\n",
       "      <td>14.8</td>\n",
       "    </tr>\n",
       "    <tr>\n",
       "      <th>4</th>\n",
       "      <td>4</td>\n",
       "      <td>21.0</td>\n",
       "    </tr>\n",
       "    <tr>\n",
       "      <th>...</th>\n",
       "      <td>...</td>\n",
       "      <td>...</td>\n",
       "    </tr>\n",
       "    <tr>\n",
       "      <th>2490</th>\n",
       "      <td>2490</td>\n",
       "      <td>NaN</td>\n",
       "    </tr>\n",
       "    <tr>\n",
       "      <th>2491</th>\n",
       "      <td>2491</td>\n",
       "      <td>NaN</td>\n",
       "    </tr>\n",
       "    <tr>\n",
       "      <th>2492</th>\n",
       "      <td>2492</td>\n",
       "      <td>12.2</td>\n",
       "    </tr>\n",
       "    <tr>\n",
       "      <th>2493</th>\n",
       "      <td>2493</td>\n",
       "      <td>0.0</td>\n",
       "    </tr>\n",
       "    <tr>\n",
       "      <th>2494</th>\n",
       "      <td>2494</td>\n",
       "      <td>NaN</td>\n",
       "    </tr>\n",
       "  </tbody>\n",
       "</table>\n",
       "<p>2495 rows × 2 columns</p>\n",
       "</div>"
      ],
      "text/plain": [
       "      index  no_vehicle_pct\n",
       "0         0            12.9\n",
       "1         1             0.7\n",
       "2         2             5.4\n",
       "3         3            14.8\n",
       "4         4            21.0\n",
       "...     ...             ...\n",
       "2490   2490             NaN\n",
       "2491   2491             NaN\n",
       "2492   2492            12.2\n",
       "2493   2493             0.0\n",
       "2494   2494             NaN\n",
       "\n",
       "[2495 rows x 2 columns]"
      ]
     },
     "execution_count": 48,
     "metadata": {},
     "output_type": "execute_result"
    }
   ],
   "source": [
    "# save \"percentage of no vehicle\" as a variable\n",
    "no_vehicle_pct = df['no_vehicle_pct']\n",
    "no_vehicle_pct = no_vehicle_pct.reset_index()\n",
    "no_vehicle_pct"
   ]
  },
  {
   "cell_type": "code",
   "execution_count": 49,
   "id": "a70a53b9-40bb-4d6d-9f2a-c475cf3ce173",
   "metadata": {},
   "outputs": [
    {
     "data": {
      "text/html": [
       "<div>\n",
       "<style scoped>\n",
       "    .dataframe tbody tr th:only-of-type {\n",
       "        vertical-align: middle;\n",
       "    }\n",
       "\n",
       "    .dataframe tbody tr th {\n",
       "        vertical-align: top;\n",
       "    }\n",
       "\n",
       "    .dataframe thead th {\n",
       "        text-align: right;\n",
       "    }\n",
       "</style>\n",
       "<table border=\"1\" class=\"dataframe\">\n",
       "  <thead>\n",
       "    <tr style=\"text-align: right;\">\n",
       "      <th></th>\n",
       "      <th>index</th>\n",
       "      <th>no_vehicle_pct</th>\n",
       "    </tr>\n",
       "  </thead>\n",
       "  <tbody>\n",
       "    <tr>\n",
       "      <th>0</th>\n",
       "      <td>0</td>\n",
       "      <td>12.9</td>\n",
       "    </tr>\n",
       "    <tr>\n",
       "      <th>1</th>\n",
       "      <td>1</td>\n",
       "      <td>0.7</td>\n",
       "    </tr>\n",
       "    <tr>\n",
       "      <th>2</th>\n",
       "      <td>2</td>\n",
       "      <td>5.4</td>\n",
       "    </tr>\n",
       "    <tr>\n",
       "      <th>3</th>\n",
       "      <td>3</td>\n",
       "      <td>14.8</td>\n",
       "    </tr>\n",
       "    <tr>\n",
       "      <th>4</th>\n",
       "      <td>4</td>\n",
       "      <td>21.0</td>\n",
       "    </tr>\n",
       "  </tbody>\n",
       "</table>\n",
       "</div>"
      ],
      "text/plain": [
       "   index  no_vehicle_pct\n",
       "0      0            12.9\n",
       "1      1             0.7\n",
       "2      2             5.4\n",
       "3      3            14.8\n",
       "4      4            21.0"
      ]
     },
     "execution_count": 49,
     "metadata": {},
     "output_type": "execute_result"
    }
   ],
   "source": [
    "# shows the first 5 rows of the dataframe \n",
    "no_vehicle_pct.head()"
   ]
  },
  {
   "cell_type": "code",
   "execution_count": 52,
   "id": "10a87470-9ac8-44a4-a673-e553d12d5a2b",
   "metadata": {},
   "outputs": [
    {
     "data": {
      "text/plain": [
       "2495"
      ]
     },
     "execution_count": 52,
     "metadata": {},
     "output_type": "execute_result"
    }
   ],
   "source": [
    "# number of tracts\n",
    "len(no_vehicle_pct)"
   ]
  },
  {
   "cell_type": "code",
   "execution_count": 58,
   "id": "6777f50f-c001-4b27-8f86-c9067f21ee8a",
   "metadata": {},
   "outputs": [
    {
     "data": {
      "text/html": [
       "<div>\n",
       "<style scoped>\n",
       "    .dataframe tbody tr th:only-of-type {\n",
       "        vertical-align: middle;\n",
       "    }\n",
       "\n",
       "    .dataframe tbody tr th {\n",
       "        vertical-align: top;\n",
       "    }\n",
       "\n",
       "    .dataframe thead th {\n",
       "        text-align: right;\n",
       "    }\n",
       "</style>\n",
       "<table border=\"1\" class=\"dataframe\">\n",
       "  <thead>\n",
       "    <tr style=\"text-align: right;\">\n",
       "      <th></th>\n",
       "      <th>index</th>\n",
       "      <th>no_vehicle_pct</th>\n",
       "    </tr>\n",
       "  </thead>\n",
       "  <tbody>\n",
       "    <tr>\n",
       "      <th>0</th>\n",
       "      <td>0</td>\n",
       "      <td>12.9</td>\n",
       "    </tr>\n",
       "    <tr>\n",
       "      <th>1</th>\n",
       "      <td>1</td>\n",
       "      <td>0.7</td>\n",
       "    </tr>\n",
       "    <tr>\n",
       "      <th>2</th>\n",
       "      <td>2</td>\n",
       "      <td>5.4</td>\n",
       "    </tr>\n",
       "    <tr>\n",
       "      <th>3</th>\n",
       "      <td>3</td>\n",
       "      <td>14.8</td>\n",
       "    </tr>\n",
       "    <tr>\n",
       "      <th>4</th>\n",
       "      <td>4</td>\n",
       "      <td>21.0</td>\n",
       "    </tr>\n",
       "    <tr>\n",
       "      <th>...</th>\n",
       "      <td>...</td>\n",
       "      <td>...</td>\n",
       "    </tr>\n",
       "    <tr>\n",
       "      <th>2490</th>\n",
       "      <td>2490</td>\n",
       "      <td>NaN</td>\n",
       "    </tr>\n",
       "    <tr>\n",
       "      <th>2491</th>\n",
       "      <td>2491</td>\n",
       "      <td>NaN</td>\n",
       "    </tr>\n",
       "    <tr>\n",
       "      <th>2492</th>\n",
       "      <td>2492</td>\n",
       "      <td>12.2</td>\n",
       "    </tr>\n",
       "    <tr>\n",
       "      <th>2493</th>\n",
       "      <td>2493</td>\n",
       "      <td>0.0</td>\n",
       "    </tr>\n",
       "    <tr>\n",
       "      <th>2494</th>\n",
       "      <td>2494</td>\n",
       "      <td>NaN</td>\n",
       "    </tr>\n",
       "  </tbody>\n",
       "</table>\n",
       "<p>2495 rows × 2 columns</p>\n",
       "</div>"
      ],
      "text/plain": [
       "      index  no_vehicle_pct\n",
       "0         0            12.9\n",
       "1         1             0.7\n",
       "2         2             5.4\n",
       "3         3            14.8\n",
       "4         4            21.0\n",
       "...     ...             ...\n",
       "2490   2490             NaN\n",
       "2491   2491             NaN\n",
       "2492   2492            12.2\n",
       "2493   2493             0.0\n",
       "2494   2494             NaN\n",
       "\n",
       "[2495 rows x 2 columns]"
      ]
     },
     "execution_count": 58,
     "metadata": {},
     "output_type": "execute_result"
    }
   ],
   "source": [
    "no_vehicle_pct.replace('NaN', '0')\n",
    "no_vehicle_pct"
   ]
  },
  {
   "cell_type": "code",
   "execution_count": 64,
   "id": "14f1d901-8ec1-43b7-8d98-3791cba56feb",
   "metadata": {},
   "outputs": [],
   "source": [
    "# though I tried to calculate the mean percentage of households without vehicles, \n",
    "# I gave up with it. One of the challenges is how to deal with lacked data \n",
    "# as it is categorized as strings. "
   ]
  },
  {
   "cell_type": "code",
   "execution_count": null,
   "id": "fddbbcc8-102d-4dc7-9b22-f259b9af1b95",
   "metadata": {},
   "outputs": [],
   "source": []
  }
 ],
 "metadata": {
  "kernelspec": {
   "display_name": "Python 3 (ipykernel)",
   "language": "python",
   "name": "python3"
  },
  "language_info": {
   "codemirror_mode": {
    "name": "ipython",
    "version": 3
   },
   "file_extension": ".py",
   "mimetype": "text/x-python",
   "name": "python",
   "nbconvert_exporter": "python",
   "pygments_lexer": "ipython3",
   "version": "3.11.7"
  }
 },
 "nbformat": 4,
 "nbformat_minor": 5
}
